{
  "cells": [
    {
      "cell_type": "code",
      "execution_count": null,
      "source": [
        "import pandas as pd\r\n",
        "from sqlalchemy import create_engine"
      ],
      "outputs": [],
      "metadata": {}
    },
    {
      "cell_type": "markdown",
      "source": [
        "### Store CSV into DataFrame"
      ],
      "metadata": {
        "slideshow": {
          "slide_type": "-"
        }
      }
    },
    {
      "cell_type": "code",
      "execution_count": null,
      "source": [
        "csv_file = \"../Resources/athlete_events.csv\"\r\n",
        "athlete_df = pd.read_csv(csv_file)\r\n",
        "athlete_df.head()\r\n"
      ],
      "outputs": [],
      "metadata": {}
    },
    {
      "cell_type": "markdown",
      "source": [
        "### Create new data with select columns"
      ],
      "metadata": {}
    },
    {
      "cell_type": "code",
      "execution_count": null,
      "source": [
        "csv_file2 = \"../Resources/noc_regions.csv\"\r\n",
        "noc_df = pd.read_csv(csv_file2)\r\n",
        "noc_df.head()\r\n"
      ],
      "outputs": [],
      "metadata": {}
    },
    {
      "cell_type": "code",
      "execution_count": null,
      "source": [
        "merged_df = pd.merge(athlete_df, noc_df, how='left', on='NOC')\r\n",
        "merged_df.head()"
      ],
      "outputs": [],
      "metadata": {}
    },
    {
      "cell_type": "code",
      "execution_count": null,
      "source": [
        "# Create a filtered dataframe from specific columns\r\n",
        "athlete_cols = [\"ID\", \"Name\", \"NOC\"]\r\n",
        "athlete_transformed= merged_df[athlete_cols].copy()\r\n",
        "\r\n",
        "# Rename the column headers\r\n",
        "athlete_transformed = athlete_transformed.rename(columns={\"ID\": \"id\",\r\n",
        "                                                          \"Name\": \"name\",\r\n",
        "                                                          \"NOC\": \"country\"})\r\n",
        "\r\n",
        "# Clean the data by dropping duplicates and setting the index\r\n",
        "athlete_transformed.drop_duplicates(\"id\", inplace=True)\r\n",
        "athlete_transformed.set_index(\"id\", inplace=True)\r\n",
        "\r\n",
        "athlete_transformed.head()"
      ],
      "outputs": [],
      "metadata": {}
    },
    {
      "cell_type": "markdown",
      "source": [
        "### Clean DataFrame"
      ],
      "metadata": {}
    },
    {
      "cell_type": "code",
      "execution_count": null,
      "source": [
        "# Create a filtered dataframe from specific columns\r\n",
        "olympic_cols = [\"ID\", \"Year\", \"Season\", \"City\"]\r\n",
        "olympic_transformed= merged_df[olympic_cols].copy()\r\n",
        "\r\n",
        "# Rename the column headers\r\n",
        "olympic_transformed = olympic_transformed.rename(columns={\"ID\": \"id\",\r\n",
        "                                                          \"Year\": \"year\",\r\n",
        "                                                          \"Season\": \"season\",\r\n",
        "                                                          \"City\": \"city\"})\r\n",
        "\r\n",
        "# Clean the data by dropping duplicates and setting the index\r\n",
        "olympic_transformed.drop_duplicates(\"id\", inplace=True)\r\n",
        "olympic_transformed.set_index(\"id\", inplace=True)\r\n",
        "\r\n",
        "olympic_transformed.head()"
      ],
      "outputs": [],
      "metadata": {}
    },
    {
      "cell_type": "code",
      "execution_count": null,
      "source": [
        "# Create a filtered dataframe from specific columns\r\n",
        "region_cols = [\"ID\", \"Sport\", \"Medal\"]\r\n",
        "region_transformed= merged_df[region_cols].copy()\r\n",
        "\r\n",
        "# Rename the column headers\r\n",
        "region_transformed = region_transformed.rename(columns={\"ID\": \"id\",\r\n",
        "                                                          \"Sport\": \"sport\",\r\n",
        "                                                          \"Medal\": \"medal\",}\r\n",
        "                                                          )\r\n",
        "\r\n",
        "# Clean the data by dropping duplicates and setting the index\r\n",
        "region_transformed.drop_duplicates(\"id\", inplace=True)\r\n",
        "region_transformed.set_index(\"id\", inplace=True)\r\n",
        "\r\n",
        "region_transformed.head()"
      ],
      "outputs": [],
      "metadata": {}
    },
    {
      "cell_type": "markdown",
      "source": [
        "### Connect to local database"
      ],
      "metadata": {}
    },
    {
      "cell_type": "code",
      "execution_count": null,
      "source": [
        "connection_string = \"postgres:postgres@localhost:5432/olympic_db\"\r\n",
        "engine = create_engine(f'postgresql://{connection_string}')"
      ],
      "outputs": [],
      "metadata": {}
    },
    {
      "cell_type": "markdown",
      "source": [
        "### Check for tables"
      ],
      "metadata": {}
    },
    {
      "cell_type": "code",
      "execution_count": null,
      "source": [
        "engine.table_names()"
      ],
      "outputs": [],
      "metadata": {}
    },
    {
      "cell_type": "markdown",
      "source": [
        "### Use pandas to load csv converted DataFrame into database"
      ],
      "metadata": {}
    },
    {
      "cell_type": "code",
      "execution_count": null,
      "source": [
        "olympic_transformed.to_sql(name='olympic', con=engine, if_exists='append', index=True)"
      ],
      "outputs": [],
      "metadata": {}
    },
    {
      "cell_type": "code",
      "execution_count": null,
      "source": [
        "athlete_transformed.to_sql(name='athlete', con=engine, if_exists='append', index=True)"
      ],
      "outputs": [],
      "metadata": {}
    },
    {
      "cell_type": "code",
      "execution_count": null,
      "source": [
        "region_transformed.to_sql(name='region', con=engine, if_exists='append', index=True)"
      ],
      "outputs": [],
      "metadata": {}
    },
    {
      "cell_type": "markdown",
      "source": [
        "### Confirm data has been added by querying the customer_name table\n",
        "* NOTE: can also check using pgAdmin"
      ],
      "metadata": {}
    },
    {
      "cell_type": "code",
      "execution_count": null,
      "source": [
        "pd.read_sql_query('select * from athlete', con=engine).head()"
      ],
      "outputs": [],
      "metadata": {}
    },
    {
      "cell_type": "markdown",
      "source": [
        "### Confirm data has been added by querying the customer_location table"
      ],
      "metadata": {}
    },
    {
      "cell_type": "code",
      "execution_count": null,
      "source": [
        "pd.read_sql_query('select * from athlete', con=engine).head()"
      ],
      "outputs": [],
      "metadata": {}
    },
    {
      "cell_type": "code",
      "execution_count": null,
      "source": [
        "pd.read_sql_query('select * from region', con=engine).head()"
      ],
      "outputs": [],
      "metadata": {}
    },
    {
      "cell_type": "code",
      "execution_count": null,
      "source": [],
      "outputs": [],
      "metadata": {}
    }
  ],
  "metadata": {
    "kernelspec": {
      "name": "python3",
      "display_name": "Python 3.6.10 64-bit ('PythonData': conda)"
    },
    "language_info": {
      "codemirror_mode": {
        "name": "ipython",
        "version": 3
      },
      "file_extension": ".py",
      "mimetype": "text/x-python",
      "name": "python",
      "nbconvert_exporter": "python",
      "pygments_lexer": "ipython3",
      "version": "3.6.10"
    },
    "nteract": {
      "version": "0.12.3"
    },
    "interpreter": {
      "hash": "352eb0fdbc39df23c3941759226aac7a80e9e8fcb0968112f6f9929c3d7daf2e"
    }
  },
  "nbformat": 4,
  "nbformat_minor": 2
}