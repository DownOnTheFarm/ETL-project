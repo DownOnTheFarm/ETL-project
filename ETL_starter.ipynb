{
  "cells": [
    {
      "cell_type": "code",
      "execution_count": null,
      "source": [
        "# Import dependencies\r\n",
        "import pandas as pd\r\n",
        "from sqlalchemy import create_engine"
      ],
      "outputs": [],
      "metadata": {}
    },
    {
      "cell_type": "markdown",
      "source": [
        "### Store CSV into DataFrame"
      ],
      "metadata": {
        "slideshow": {
          "slide_type": "-"
        }
      }
    },
    {
      "cell_type": "code",
      "execution_count": null,
      "source": [
        "# Read CSV - athlete events\r\n",
        "csv_events = \"Resources/athlete_events.csv\"\r\n",
        "events_df = pd.read_csv(csv_events)\r\n",
        "events_df.head()"
      ],
      "outputs": [],
      "metadata": {}
    },
    {
      "cell_type": "code",
      "execution_count": null,
      "source": [
        "# Drop data\r\n",
        "events_df.drop(['Team', 'Games'], axis=1, inplace=True)\r\n",
        "events_df.head()"
      ],
      "outputs": [],
      "metadata": {}
    },
    {
      "cell_type": "code",
      "execution_count": null,
      "source": [
        "# Replace null values\r\n",
        "events_df['Medal'].fillna('None', inplace = True)\r\n",
        "events_df['Height'].fillna(0, inplace = True)\r\n",
        "events_df['Weight'].fillna(0, inplace = True)\r\n",
        "events_df['Age'].fillna(0, inplace = True)\r\n",
        "\r\n",
        "events_df = events_df.drop_duplicates()\r\n",
        "print(len(events_df))\r\n",
        "events_df.head()"
      ],
      "outputs": [],
      "metadata": {}
    },
    {
      "cell_type": "markdown",
      "source": [
        "### Create new data with select columns"
      ],
      "metadata": {}
    },
    {
      "cell_type": "code",
      "execution_count": null,
      "source": [
        "# Create a filtered dataframe from specific columns\r\n",
        "events_cols = [\"ID\", \"Name\", \"Sex\", \"Age\", \"Height\", \"Weight\", \"NOC\", \"Year\", \"Season\", \"City\", \"Sport\", \"Event\", \"Medal\"]\r\n",
        "events_transformed = events_df[events_cols].copy()\r\n",
        "\r\n",
        "# Rename the column headers\r\n",
        "events_transformed = events_transformed.rename(columns={\"ID\":\"id\", \"Name\":\"athlete_name\", \"Sex\":\"athlete_sex\", \r\n",
        "    \"Age\":\"athlete_age\", \"Height\":\"athlete_height\", \"Weight\":\"athlete_weight\", \r\n",
        "    \"NOC\":\"noc\", \"Year\":\"year\", \"Season\":\"season\", \"City\":\"city_of_games\", \"Sport\":\"sport\", \"Event\":\"event\", \"Medal\":\"medal\"})\r\n",
        "\r\n",
        "# Clean the data by setting the index\r\n",
        "events_transformed.set_index(\"id\", inplace=True)\r\n",
        "\r\n",
        "events_transformed.head()"
      ],
      "outputs": [],
      "metadata": {}
    },
    {
      "cell_type": "code",
      "execution_count": null,
      "source": [
        "# Read CSV - noc\r\n",
        "csv_noc = \"Resources/noc_regions.csv\"\r\n",
        "noc_df = pd.read_csv(csv_noc)\r\n",
        "noc_df.head()"
      ],
      "outputs": [],
      "metadata": {}
    },
    {
      "cell_type": "markdown",
      "source": [
        "### Store JSON data into a DataFrame"
      ],
      "metadata": {}
    },
    {
      "cell_type": "code",
      "execution_count": null,
      "source": [
        "json_file = \"../Resources/customer_location.json\"\r\n",
        "customer_location_df = pd.read_json(json_file)\r\n",
        "customer_location_df.head()"
      ],
      "outputs": [],
      "metadata": {}
    },
    {
      "cell_type": "markdown",
      "source": [
        "### Clean DataFrame"
      ],
      "metadata": {}
    },
    {
      "cell_type": "code",
      "execution_count": null,
      "source": [
        "new_customer_location_df = customer_location_df[[\"id\", \"address\", \"us_state\"]].copy()\r\n",
        "new_customer_location_df.head()"
      ],
      "outputs": [],
      "metadata": {}
    },
    {
      "cell_type": "markdown",
      "source": [
        "### Connect to local database"
      ],
      "metadata": {}
    },
    {
      "cell_type": "code",
      "execution_count": null,
      "source": [
        "rds_connection_string = \"postgres:postgres@localhost:5432/olympics_db\"\r\n",
        "engine = create_engine(f'postgresql://{rds_connection_string}')"
      ],
      "outputs": [],
      "metadata": {}
    },
    {
      "cell_type": "markdown",
      "source": [
        "### Check for tables"
      ],
      "metadata": {}
    },
    {
      "cell_type": "code",
      "execution_count": null,
      "source": [
        "engine.table_names()"
      ],
      "outputs": [],
      "metadata": {}
    },
    {
      "cell_type": "markdown",
      "source": [
        "### Use pandas to load csv converted DataFrame into database"
      ],
      "metadata": {}
    },
    {
      "cell_type": "code",
      "execution_count": null,
      "source": [
        "events_transformed.to_sql(name='events', con=engine, if_exists='append', index=True)"
      ],
      "outputs": [],
      "metadata": {}
    },
    {
      "cell_type": "markdown",
      "source": [
        "### Use pandas to load json converted DataFrame into database"
      ],
      "metadata": {}
    },
    {
      "cell_type": "code",
      "execution_count": null,
      "source": [
        "new_customer_location_df.to_sql(name='customer_location', con=engine, if_exists='append', index=False)"
      ],
      "outputs": [],
      "metadata": {}
    },
    {
      "cell_type": "markdown",
      "source": [
        "### Confirm data has been added by querying the customer_name table\n",
        "* NOTE: can also check using pgAdmin"
      ],
      "metadata": {}
    },
    {
      "cell_type": "code",
      "execution_count": null,
      "source": [
        "pd.read_sql_query('select * from customer_name', con=engine).head()"
      ],
      "outputs": [],
      "metadata": {}
    },
    {
      "cell_type": "markdown",
      "source": [
        "### Confirm data has been added by querying the customer_location table"
      ],
      "metadata": {}
    },
    {
      "cell_type": "code",
      "execution_count": null,
      "source": [
        "pd.read_sql_query('select * from customer_location', con=engine).head()"
      ],
      "outputs": [],
      "metadata": {}
    },
    {
      "cell_type": "code",
      "execution_count": null,
      "source": [],
      "outputs": [],
      "metadata": {}
    }
  ],
  "metadata": {
    "kernelspec": {
      "name": "python3",
      "display_name": "Python 3.6.13 64-bit ('PythonData': conda)"
    },
    "language_info": {
      "name": "python",
      "version": "3.6.13",
      "mimetype": "text/x-python",
      "codemirror_mode": {
        "name": "ipython",
        "version": 3
      },
      "pygments_lexer": "ipython3",
      "nbconvert_exporter": "python",
      "file_extension": ".py"
    },
    "nteract": {
      "version": "0.12.3"
    },
    "interpreter": {
      "hash": "2d9cfea98c24f9fe45dc74017fee9aee343bdf68e5b03f34f00774f8f857f24a"
    }
  },
  "nbformat": 4,
  "nbformat_minor": 2
}